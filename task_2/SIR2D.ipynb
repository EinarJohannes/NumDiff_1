{
 "cells": [
  {
   "cell_type": "code",
   "execution_count": null,
   "metadata": {},
   "outputs": [],
   "source": [
    "#Include functions\n",
    "include(\"SIR2D.jl\");"
   ]
  },
  {
   "cell_type": "markdown",
   "metadata": {},
   "source": [
    "In this notebook we look at the problem of solving the SIR-model, with spatial spread\n",
    "\n",
    "$$S_t = -\\beta I S + \\mu_S \\Delta S$$\n",
    "\n",
    "$$I_t = \\beta I S - \\gamma I + \\mu_I \\Delta I$$\n",
    "\n",
    "\n",
    "\n",
    "Where $S$ is the proportion of susceptible individuals, $I$ is the proportion of infected individuals, and $R$ is the proportion of recovered indviduals. I.e. $$N(t) = S(t) + I(t) + R(t) = 1$$\n",
    "We will solve this system of PDEs using the finite difference method."
   ]
  },
  {
   "cell_type": "code",
   "execution_count": null,
   "metadata": {},
   "outputs": [],
   "source": [
    "#Grid length/height\n",
    "M = 30\n",
    "\n",
    "#Initial Conditions\n",
    "S0 = ones(M, M) * 0.99  # 99% susceptible\n",
    "I0 = zeros(M, M)\n",
    "I0[2, 2] = 0.01       # Small initial infection\n",
    "I0[end, 2] = 0.01\n",
    "\n",
    "#Define beta-matrix\n",
    "b = manhattan_beta(M, 5.0, 0.1, 8) #3\n",
    "\n",
    "#Create model-struct\n",
    "model1 = SIR(M, S0, I0, (0.0, 20.0), b, 0.1, 0.0001, 0.0001, 1); #Switch k, last value, to 0.01\n",
    "model2 = SIR(M, S0, I0, (0.0,10), b, 0.1, 0.001, 0.001, 0.1);"
   ]
  },
  {
   "cell_type": "code",
   "execution_count": null,
   "metadata": {},
   "outputs": [],
   "source": [
    "t, Sm, Im, Rm = solvePDE(model1);"
   ]
  },
  {
   "cell_type": "code",
   "execution_count": null,
   "metadata": {},
   "outputs": [],
   "source": [
    "tw, Sw, Iw, Rw = solvePDE(model2, \"CN\")"
   ]
  },
  {
   "cell_type": "code",
   "execution_count": null,
   "metadata": {},
   "outputs": [],
   "source": [
    "Animate(model1.M, t, Sm, Im, Rm, \"SIR Model Evolution - Covid in Manhattan (Standard ODE solver)\")"
   ]
  },
  {
   "cell_type": "code",
   "execution_count": null,
   "metadata": {},
   "outputs": [],
   "source": [
    "Animate(model1.M, tw, Sw, Iw, Rw, \"SIR Model Evolution - Covid in Manhattan (Crank Nicholson)\")"
   ]
  },
  {
   "cell_type": "markdown",
   "metadata": {},
   "source": [
    "*****"
   ]
  },
  {
   "cell_type": "markdown",
   "metadata": {},
   "source": [
    "Instead of having a constant $\\beta$ and $\\gamma$-parameters, it is possible to differentiate based on spatial position. Here it is possible to see a so-called \"Manhattan\"-based $\\beta$. Inspired by the American borough, this $\\beta$-parameter is higher in the \"roads\", than in the \"buildings\". This is a simple way to model the spread of a disease in a city with a grid like structure."
   ]
  },
  {
   "cell_type": "code",
   "execution_count": null,
   "metadata": {},
   "outputs": [],
   "source": [
    "M = 30\n",
    "bb = manhattan_beta(M, 5.0, 1.0, 8)\n",
    "r = range(0,1,length=M)\n",
    "heatmap(r,r,bb')"
   ]
  },
  {
   "cell_type": "markdown",
   "metadata": {},
   "source": [
    "*****"
   ]
  }
 ],
 "metadata": {
  "kernelspec": {
   "display_name": "Julia 1.11.2",
   "language": "julia",
   "name": "julia-1.11"
  },
  "language_info": {
   "file_extension": ".jl",
   "mimetype": "application/julia",
   "name": "julia",
   "version": "1.11.2"
  }
 },
 "nbformat": 4,
 "nbformat_minor": 2
}
